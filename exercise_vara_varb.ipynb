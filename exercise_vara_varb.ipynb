{
 "cells": [
  {
   "cell_type": "markdown",
   "metadata": {},
   "source": [
    "# Exercise\n",
    "\n",
    "Assume that two variables, varA and varB, are assigned values, either numbers or strings.\n",
    "\n",
    "Write a piece of Python code that evaluates varA and varB, and then prints out one of the following messages:\n",
    "\n",
    "`string involved` if either varA or varB are strings\n",
    "\n",
    "`bigger` if varA is larger than varB\n",
    "\n",
    "`equal` if varA is equal to varB\n",
    "\n",
    "`smaller` if varA is smaller than varB\n",
    "\n",
    "This gem is coming from course online at `https://courses.edx.org/courses/course-v1:MITx+6.00.1x+2T2018/courseware/fc8f42302c644118adfcfa720f9f403e/35f82f6c3ecb4e9e913dc279a9b73a9f/?child=first`"
   ]
  },
  {
   "cell_type": "markdown",
   "metadata": {},
   "source": [
    "## Comparing using length (only worls with varB == str"
   ]
  },
  {
   "cell_type": "code",
   "execution_count": 10,
   "metadata": {
    "scrolled": true
   },
   "outputs": [
    {
     "name": "stdout",
     "output_type": "stream",
     "text": [
      "string involved\n",
      "smaller\n"
     ]
    }
   ],
   "source": [
    "'''\n",
    "2. Is there other way to compare str and int/float?\n",
    "\n",
    "3. At this case it seems that transforming int to str with varA = str(varA) is the only way. I bet there are \n",
    "others ways. But by doing this the negative int do not fit \n",
    "'''\n",
    "varA = -1\n",
    "varB = 'hola'\n",
    "\n",
    "if ((type(varA) == str) or (type(varB) == str)):\n",
    "    print('string involved')\n",
    "\n",
    "if type(varA) != str:\n",
    "    varA = str(varA)\n",
    "    if len(varA) > len(varB):\n",
    "        print('bigger')\n",
    "else:\n",
    "    varB = str(varB)\n",
    "    if len(varA) > len(varB):\n",
    "        print('bigger')\n",
    "        \n",
    "if type(varA) != str:\n",
    "    varA = str(varA)\n",
    "    if varA == varB:\n",
    "        print('equal')\n",
    "elif type(varB) != str:\n",
    "    varB = str(varB)\n",
    "    if varA == varB:\n",
    "        print('equal')\n",
    "elif varA < varB:\n",
    "    print(\"smaller\")"
   ]
  },
  {
   "cell_type": "markdown",
   "metadata": {},
   "source": [
    "^the problem definition for this one made me think for a minute, but I think the key here is that your code should only print __one__ of the four messages. If you think about the problem that way, then you shouldn't ever need to compare strings and integers.\n",
    "\n",
    "## Note on String Comparison\n",
    "This shouldn't come up if you think about the problem as aiming for only one of the messages to print, but if you ever find yourself comparing two strings, there is one other thing to note -- when applied to strings, the comparison operators in Python (<, >, <=, >=) are actually comparing the unicode point numbers for corresponding pairs of characters from each string from left to right (i.e. the 0th index character from varA is compared to the 0th index character from varB). See [this](https://stackoverflow.com/questions/4806911/string-comparison-technique-used-by-python) stack overflow post."
   ]
  },
  {
   "cell_type": "markdown",
   "metadata": {},
   "source": [
    "# Other functions I discovered during this exercise \n",
    "\n",
    "1. There is a build-in function called `isinstance(varA, str)` that might help with the bool comparation. \n",
    "Have you use it?\n",
    "\n",
    "2. Another build-in funtion that I tried was `ord()` but only works with strings. "
   ]
  },
  {
   "cell_type": "code",
   "execution_count": 4,
   "metadata": {},
   "outputs": [
    {
     "data": {
      "text/plain": [
       "True"
      ]
     },
     "execution_count": 4,
     "metadata": {},
     "output_type": "execute_result"
    }
   ],
   "source": [
    "varA = 1\n",
    "varA = str(varA)\n",
    "varB = '1'\n",
    "varA == varB"
   ]
  },
  {
   "cell_type": "markdown",
   "metadata": {},
   "source": [
    "# Short version of the code that test int and str in both variable"
   ]
  },
  {
   "cell_type": "code",
   "execution_count": 12,
   "metadata": {},
   "outputs": [
    {
     "name": "stdout",
     "output_type": "stream",
     "text": [
      "bigger\n"
     ]
    }
   ],
   "source": [
    "varA = 123\n",
    "varB = -1\n",
    "\n",
    "if ((type(varA) == str) or (type(varB) == str)):\n",
    "    print('string involved')\n",
    "    if (type(varA) == str) and (type(varB) == str):\n",
    "        if varA > varB:\n",
    "            print(\"bigger\")\n",
    "        elif varA == varB:\n",
    "            print(\"equal\")\n",
    "        else:\n",
    "            print(\"smaller\")\n",
    "\n",
    "if (type(varA) == int) and (type(varB) == int):\n",
    "    if varA > varB:\n",
    "        print(\"bigger\")\n",
    "    elif varA == varB:\n",
    "        print(\"equal\")\n",
    "    else:\n",
    "        print(\"smaller\")"
   ]
  },
  {
   "cell_type": "markdown",
   "metadata": {},
   "source": [
    "I think this code goes above and beyond what the course was looking for, but it is still worth looking at. I have a couple of comments (which I've inserted in line below):\n",
    "\n",
    "```Python\n",
    "if ((type(varA) == str) or (type(varB) == str)):\n",
    "    print('string involved')\n",
    "    if (type(varA) == str) and (type(varB) == str):\n",
    "        if varA > varB:\n",
    "            print(\"bigger\")\n",
    "        elif varA == varB: # see my note on string comparison above. \n",
    "            print(\"equal\") \n",
    "        else:\n",
    "            print(\"smaller\")\n",
    "\n",
    "if (type(varA) == int) and (type(varB) == int): # since the prob definition refers to \"numbers\" rather than\n",
    "    if varA > varB: # integers, I think you should aim to handle floats as well. See my comments below. \n",
    "        print(\"bigger\")\n",
    "    elif varA == varB:\n",
    "        print(\"equal\")\n",
    "    else:\n",
    "        print(\"smaller\")\n",
    "```\n",
    "Here, you've created two separate \"if\" blocks which will __both__ be evaluated every time the code runs, but it would be simpler to put all of this code in a single \"if / else\" block. In the first if statement above, you already handle the condition where either or both of the variables is a string. If you change your second if statement to an else statement, you can assume that neither of the variables is a string (since this is the only situation in which the second block would be executed)."
   ]
  },
  {
   "cell_type": "code",
   "execution_count": 2,
   "metadata": {},
   "outputs": [
    {
     "name": "stdout",
     "output_type": "stream",
     "text": [
      "asd\n",
      "sda\n",
      "das\n",
      "asl\n",
      "slk\n",
      "lkd\n",
      "kdj\n",
      "djb\n",
      "jbo\n",
      "bob\n",
      "obj\n",
      "bjl\n",
      "jlk\n",
      "lks\n",
      "ksj\n",
      "sjd\n",
      "jdb\n",
      "dbo\n",
      "bob\n",
      "obo\n",
      "bob\n",
      "oba\n",
      "bas\n",
      "asd\n",
      "sds\n",
      "dsa\n",
      "sad\n",
      "ad\n",
      "d\n",
      "Number of times bob occurs is: 3\n"
     ]
    }
   ],
   "source": [
    "'''\n",
    "Write a program that prints the number of times the string\n",
    "'bob' occurs in s. For example, if s = 'azcbobobegghakl',\n",
    "then your program should print\n",
    "'''\n",
    "count = 0\n",
    "s = 'asdaslkdjbobjlksjdbobobasdsad'\n",
    "inicio = 0\n",
    "bob = 0\n",
    "for inicio in range(len(s)):\n",
    "    bob = inicio + 3\n",
    "    print(s[inicio:bob])\n",
    "    if s[inicio:bob] == 'bob':\n",
    "        count += 1\n",
    "print('Number of times bob occurs is: ' + str(count))"
   ]
  },
  {
   "cell_type": "markdown",
   "metadata": {},
   "source": [
    "^ this is not a bad solution. My only comment is that there is no need to initialize bob or inicio to zero before you enter the loop, since you define both within  the loop (inicio is assigned by the for statement, and bob is assigned explicitly in the first line of the loop)"
   ]
  },
  {
   "cell_type": "code",
   "execution_count": 3,
   "metadata": {},
   "outputs": [
    {
     "data": {
      "text/plain": [
       "'his'"
      ]
     },
     "execution_count": 3,
     "metadata": {},
     "output_type": "execute_result"
    }
   ],
   "source": []
  },
  {
   "cell_type": "code",
   "execution_count": null,
   "metadata": {},
   "outputs": [],
   "source": []
  }
 ],
 "metadata": {
  "kernelspec": {
   "display_name": "Python 3",
   "language": "python",
   "name": "python3"
  },
  "language_info": {
   "codemirror_mode": {
    "name": "ipython",
    "version": 3
   },
   "file_extension": ".py",
   "mimetype": "text/x-python",
   "name": "python",
   "nbconvert_exporter": "python",
   "pygments_lexer": "ipython3",
   "version": "3.6.5"
  }
 },
 "nbformat": 4,
 "nbformat_minor": 2
}
