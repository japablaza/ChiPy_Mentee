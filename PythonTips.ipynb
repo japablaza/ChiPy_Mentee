{
 "cells": [
  {
   "cell_type": "markdown",
   "metadata": {},
   "source": [
    "# Strings, String Indexing, and String Slicing\n",
    "There are a few handy things to know when working with strings:\n",
    "\n",
    "### Python has three different string delimiters: \", ', and \"\"\"\n",
    "The \" and ' delimiters are interchangeable, but you might want to use one or the other depending on the contents of your string. For instance, if you have an apostrophe in your string, you would likely want to use quotation marks:\n",
    "\n",
    "\n",
    "response = \"that's okay\"\n",
    "\n",
    "The triple quotes are often used for multi-line strings or for strings which contain both quotation marks and apostrophes. They are often used for the creation of __[docstrings](https://www.python.org/dev/peps/pep-0257/#what-is-a-docstring)__ (strings which specify the expected inputs and outputs of functions or methods).\n",
    "\n",
    "```python\n",
    "def square(x):\n",
    "    \"\"\"x - an int or float; returns the square of x\"\"\"\n",
    "    return x*x```\n",
    "\n",
    "### String Indexes start at 0\n",
    "Keep in mind that the first element in your string will have an index of 0."
   ]
  },
  {
   "cell_type": "code",
   "execution_count": null,
   "metadata": {
    "scrolled": true
   },
   "outputs": [],
   "source": [
    "my_string = \"recursion\"\n",
    "my_string[1] # will return the 2nd element of the string --> 'e'"
   ]
  },
  {
   "cell_type": "markdown",
   "metadata": {},
   "source": [
    "### Python allows negative indexes (indexing from the right)\n",
    "Sometimes you just want the last element(s) of a string, in which case you can pass a negative index."
   ]
  },
  {
   "cell_type": "code",
   "execution_count": null,
   "metadata": {},
   "outputs": [],
   "source": [
    "my_string[-1]"
   ]
  },
  {
   "cell_type": "markdown",
   "metadata": {},
   "source": [
    "### the first number in your slice is inclusive, but the second number is exclusive\n",
    "The slice my_string[1:4] will give you the 1-index element to the __3__-index element.<br>\n",
    "Note that you can also use negative numbers in slices.\n"
   ]
  },
  {
   "cell_type": "code",
   "execution_count": null,
   "metadata": {},
   "outputs": [],
   "source": [
    "my_string[1:4]"
   ]
  },
  {
   "cell_type": "code",
   "execution_count": null,
   "metadata": {},
   "outputs": [],
   "source": [
    "my_string[1:-1]"
   ]
  },
  {
   "cell_type": "markdown",
   "metadata": {},
   "source": [
    "### you can omit either or both of the numbers in your slice"
   ]
  },
  {
   "cell_type": "code",
   "execution_count": null,
   "metadata": {},
   "outputs": [],
   "source": [
    "print(my_string[:4]) # same as my_string[0:4]\n",
    "print(my_string[1:]) # same as my string[1:len(my_string)-1]\n",
    "print(my_string[:]) # returns a copy of mystring\n",
    "# returning a copy is not particularly useful for strings (which are immutable),\n",
    "# but it can be useful for making copies of mutable iterable objects like lists."
   ]
  },
  {
   "cell_type": "code",
   "execution_count": 4,
   "metadata": {},
   "outputs": [
    {
     "name": "stdout",
     "output_type": "stream",
     "text": [
      "at first, both lists are the same:\n",
      "[0, 1, 2, 3]\n",
      "[0, 1, 2, 3]\n",
      "you might think that adding a second 3 to my_pointer would only affect my_pointer, but...\n",
      "[0, 1, 2, 3, 3]\n",
      "[0, 1, 2, 3, 3]\n",
      "Both lists have changed!\n",
      "      This is because in line 5 above, you are not creating a new list object in memory\n",
      "      you are just creating a new pointer to the same list object (which is why I named it my_pointer)\n",
      "\n",
      "to fix this problem, we can use the [:] slice to create an exact copy of our list\n",
      "Now we have created two distinct objects in memory,\n",
      "        so changing one of them should have no effect on the other.\n",
      "[0, 1, 2, 3]\n",
      "[0, 1, 2, 3, 3]\n"
     ]
    }
   ],
   "source": [
    "# An example of how copying can be useful when working with lists \n",
    "# assign a list to a variable\n",
    "my_list = [0, 1, 2, 3]\n",
    "# assign the variable just created to another variable\n",
    "my_pointer = my_list\n",
    "print(\"at first, both lists are the same:\")\n",
    "print(my_list)\n",
    "print(my_pointer)\n",
    "# edit my_pointer\n",
    "my_pointer.append(3)\n",
    "print(\"you might think that adding a second 3 to my_pointer would only affect my_pointer, but...\")\n",
    "print(my_list)\n",
    "print(my_pointer)\n",
    "print(\"\"\"Both lists have changed!\n",
    "      This is because in line 5 of this cell, you are not creating a new list object in memory\n",
    "      you are just creating a new pointer to the same list object in memory\n",
    "      (which is why I named it my_pointer)\"\"\")\n",
    "print()\n",
    "print(\"\"\"to fix this problem, we can use the [:] slice to create an exact copy of our list\"\"\")\n",
    "my_list = [0, 1, 2, 3]\n",
    "my_copy = my_list[:]\n",
    "print(\"\"\"Now we have created two distinct objects in memory,\n",
    "        so changing one of them should have no effect on the other.\"\"\")\n",
    "# edit my copy\n",
    "my_copy.append(3)\n",
    "print(my_list)\n",
    "print(my_copy)"
   ]
  },
  {
   "cell_type": "markdown",
   "metadata": {},
   "source": [
    "# f-strings\n",
    "f-strings are a relatively new feature in Python. They allow you to reference variables directly and even evaluate expressions inside of strings."
   ]
  },
  {
   "cell_type": "code",
   "execution_count": null,
   "metadata": {},
   "outputs": [],
   "source": [
    "name = \"Bob\"\n",
    "print(f\"hello, {name}\")\n",
    "print(f\"hello, {name.upper()}\")"
   ]
  },
  {
   "cell_type": "markdown",
   "metadata": {},
   "source": [
    "# Tuple Assignment\n",
    "Imagine you have two variables and you want to swap their values.\n",
    "```python\n",
    "x = 14\n",
    "y = 30```\n",
    "\n",
    "Normally, you would need to create a third variable for this purpose.\n",
    "\n",
    "```python\n",
    "x = 14\n",
    "y = 30\n",
    "temp = x\n",
    "x = y\n",
    "y = temp```\n",
    "\n",
    "Python allows you to use tuple syntax to do this in one line:\n"
   ]
  },
  {
   "cell_type": "code",
   "execution_count": null,
   "metadata": {},
   "outputs": [],
   "source": [
    "x = 14\n",
    "y = 30\n",
    "x, y = y, x\n",
    "print(f'x = {x} and y = {y}')"
   ]
  },
  {
   "cell_type": "markdown",
   "metadata": {},
   "source": [
    "# Common Dictionary Methods\n",
    "When working with dictionaries, there are few handy methods to know.<br>\n",
    "__.get()__ is useful for testing if an object is in a dictionary. If you try to use the standard key-indexing syntax with a key that is not in a dictionary, you will get an error."
   ]
  },
  {
   "cell_type": "code",
   "execution_count": null,
   "metadata": {},
   "outputs": [],
   "source": [
    "fruit_color_dict = {'banana': 'yellow',\n",
    "                    'orange': 'orange',\n",
    "                    'tomato': 'red'}"
   ]
  },
  {
   "cell_type": "code",
   "execution_count": null,
   "metadata": {},
   "outputs": [],
   "source": [
    "print(fruit_color_dict['apple'])"
   ]
  },
  {
   "cell_type": "markdown",
   "metadata": {},
   "source": [
    "### .get()\n",
    "this method allows you to avoid a KeyError and optionally specify a default value which is returned if the key is not in the dictionary"
   ]
  },
  {
   "cell_type": "code",
   "execution_count": null,
   "metadata": {},
   "outputs": [],
   "source": [
    "print(fruit_color_dict.get('apple'))"
   ]
  },
  {
   "cell_type": "code",
   "execution_count": null,
   "metadata": {},
   "outputs": [],
   "source": [
    "print(fruit_color_dict.get('apple', 'NOT IN DICTIONARY')) #with a default option"
   ]
  },
  {
   "cell_type": "markdown",
   "metadata": {},
   "source": [
    "### .keys()\n",
    "this method returns an iterable containing all of the keys in the dictionary."
   ]
  },
  {
   "cell_type": "code",
   "execution_count": null,
   "metadata": {},
   "outputs": [],
   "source": [
    "for key in fruit_color_dict.keys():\n",
    "    print(key)"
   ]
  },
  {
   "cell_type": "markdown",
   "metadata": {},
   "source": [
    "### .values()\n",
    "this method returns an iterable containing all of the values in the dictionary."
   ]
  },
  {
   "cell_type": "code",
   "execution_count": null,
   "metadata": {},
   "outputs": [],
   "source": [
    "for value in fruit_color_dict.values():\n",
    "    print(value)"
   ]
  },
  {
   "cell_type": "markdown",
   "metadata": {},
   "source": [
    "### .items()\n",
    "this method returns an iterable with tuples of key/value pairs"
   ]
  },
  {
   "cell_type": "code",
   "execution_count": null,
   "metadata": {},
   "outputs": [],
   "source": [
    "for key, value in fruit_color_dict.items():\n",
    "    print(f\"{key}: {value}\")"
   ]
  },
  {
   "cell_type": "markdown",
   "metadata": {},
   "source": [
    "# Try/Except Blocks and error handling\n",
    "Using __try__ and __except__ blocks allows you to handle what happens when an error arises. Normally if an error arises in your code, your program will crash. But you can use try and except to implement different behaviors. One common use for these blocks is opening files."
   ]
  },
  {
   "cell_type": "code",
   "execution_count": null,
   "metadata": {},
   "outputs": [],
   "source": [
    "open('somefile.txt')"
   ]
  },
  {
   "cell_type": "code",
   "execution_count": null,
   "metadata": {},
   "outputs": [],
   "source": [
    "try:\n",
    "    open('somefile.txt')\n",
    "except FileNotFoundError:\n",
    "    print(\"No such file!\")"
   ]
  },
  {
   "cell_type": "markdown",
   "metadata": {},
   "source": [
    "Note that while Python will allow you to use ```python except``` without specifying what sort of exception you want the except block to handle, as a best practice you should always specify an error type.\n",
    "\n",
    "As another example, we could implement something similar to the dictionary.get() method."
   ]
  },
  {
   "cell_type": "code",
   "execution_count": null,
   "metadata": {},
   "outputs": [],
   "source": [
    "try:\n",
    "    fruit_color_dict['apple']\n",
    "except KeyError:\n",
    "    print(\"NOT IN DICTIONARY\")"
   ]
  },
  {
   "cell_type": "markdown",
   "metadata": {},
   "source": [
    "Note that you should not use try and except to replace the get() method. This is only for demonstrative purposes.<br><br>\n",
    "The full syntax for try/except blocks allows for try, multiple except statements, else, and finally.<br><br>\n",
    "### try:\n",
    "code in this block is attempted. It either passes control to an __except__ block if an error arises (and the user has specified an except block for that error) or to the __else__ block if the code in the try block is executed without error.<br>\n",
    "### except [error type]:\n",
    "code in this block is executed when an [error type] error is raised. As noted above, you can specify different error types in multiple except blocks.<br> \n",
    "### else:\n",
    "code in this block is excuted only if the try block succeeds.<br>\n",
    "### finally:\n",
    "code in this block is executed regardless of whether the try block succeeds or an error is raised."
   ]
  },
  {
   "cell_type": "code",
   "execution_count": null,
   "metadata": {},
   "outputs": [],
   "source": [
    "def divide(x, y):\n",
    "    try:\n",
    "        print(x / y)\n",
    "    except TypeError:\n",
    "        print(\"one of the inputs is not the right type\")\n",
    "    except ZeroDivisionError:\n",
    "        print(\"cannot divide by zero\")\n",
    "    else:\n",
    "        print(\"division successful\")\n",
    "    finally:\n",
    "        print(\"this will print no matter what\")"
   ]
  },
  {
   "cell_type": "code",
   "execution_count": null,
   "metadata": {},
   "outputs": [],
   "source": [
    "divide(5, 2)"
   ]
  },
  {
   "cell_type": "code",
   "execution_count": null,
   "metadata": {},
   "outputs": [],
   "source": [
    "divide(\"cat\", 2)"
   ]
  },
  {
   "cell_type": "code",
   "execution_count": null,
   "metadata": {},
   "outputs": [],
   "source": [
    "divide(5, 0)"
   ]
  },
  {
   "cell_type": "markdown",
   "metadata": {},
   "source": [
    "# Classes and Objects\n",
    "Like we discussed on Wednesday, one way to think about classes is as additions to the primitive object types in Python (such as integer, string, list, etc.)\n",
    "\n",
    "An example might help to illustrate this point.\n",
    "Let's pretend you want to represent binary numbers in Python and that Python didn't already handle this for us (see [this](https://stackoverflow.com/questions/1476/how-do-you-express-binary-literals-in-python) stack overflow question). Let's make a class!\n",
    "\n",
    "```Python\n",
    "binary_digits = set(\"01\") # we'll use this later on to validate user input\n",
    "\n",
    "class BinaryNum(object):\n",
    "    \n",
    "    def __init__(self, somenum):```\n",
    "    \n",
    "This method is the special double underscore (or \"__dunder__\" or \"__magic__\") __method__ Python calls when you create an __object__\n",
    "of this type (aka an \"__instance__\" of this class). The analogy here is:\n",
    "object (or instance) is to class as 11 is to integer\n",
    "\n",
    "Our class will expect you to pass a decimal number or a string of 1s and 0s as a parameter when creating a BinaryNum object.\n",
    "```Python\n",
    "        assert type(somenum) == int or type(somenum) == str\n",
    "        print(\"calling the __init__() method\")\n",
    "        if type(somenum) == int:\n",
    "            self.binary_representation = self.decimal_tobin(somenum)\n",
    "        else:\n",
    "            assert set(somenum).issubset(binary_digits)\n",
    "            self.binary_representation = somenum\n",
    "        \n",
    "```\n",
    "Here if somenum is an integer we will set one __attribute__ of the object (binary_representation) by referring to a class method we will define below. Alternatively, if somenum is already a string of 1s and 0s (which we test with an assert statement), we assign the string to the binary_representation attribute directly. Attributes can be accessed via dot syntax in Python, as you'll see below. Now let's define two methods for our class.\n",
    "```Python\n",
    "    def decimal_tobin(self, decimal):\n",
    "        \"\"\"this method takes a positive decimal integer and returns the binary representation as a string\"\"\"\n",
    "        assert decimal > 0 and type(decimal) == int\n",
    "        # assertions so program will hang if decimal is not a positive\n",
    "        # integer\n",
    "        result = \"\"\n",
    "        while decimal > 0:\n",
    "            result += str(decimal % 2) \n",
    "            decimal = int(decimal / 2)\n",
    "        return result[::-1]\n",
    "    # use \"step\" slice parameter return the reversed string\n",
    "    # since we added digits left to right\n",
    "    \n",
    "    def to_decimal(self):\n",
    "        \"\"\"this method returns the decimal equivalent of self.binary_representation\"\"\"\n",
    "        result = 0\n",
    "        binnum = self.binary_representation[::-1]\n",
    "        # reverse our binary number so that we can process least digits\n",
    "        # first\n",
    "        for index, digit in enumerate(binnum):\n",
    "            # enumerate is useful if you want each object in an iterable\n",
    "            # and its index while you are looping\n",
    "            result += int(digit) * (2**index)\n",
    "            # go through each digit and raise it to the power of its index\n",
    "        return result\n",
    "```\n",
    "One very useful __dunder method__ to define is the str method. If you don't define this method and you try to pass your object to Python's print function, Python will give you something like <\\_\\_main__.BinaryNum object at 0x7f9bf813f2b0>, which is not very useful\n",
    "```Python\n",
    "    def __str__(self):\n",
    "        return self.binary_representation # here we just spit out the string representation of the binary number\n",
    "```\n",
    "\n",
    "We can use other dunder score methods to define what various primitive operators in Python (for example +, -, /, etc.) mean if we use them on objects of our class type. For instance, below we define what it would mean to add two objects of type BinaryNum.\n",
    "```Python\n",
    "    def __add__(self, obj):\n",
    "        assert type(obj) == BinaryNum # this means our program will hang if we try to add to something that is not\n",
    "                                      # of the same type\n",
    "        assert len(self.binary_representation) == len(obj.binary_representation)\n",
    "        print(\"calling the __add__() method\")\n",
    "        first_binnum = self.binary_representation[::-1]\n",
    "        second_binnum = obj.binary_representation[::-1]\n",
    "        # since we know our obj is of type BinaryNum (from our\n",
    "        # assert statements), we can assume it has a binary_representation\n",
    "        # attribute. We use dot notation to access the attributes of our objects\n",
    "        # We will assume the binary numbers are of\n",
    "        # equal length for simplicity\n",
    "        result = \"\"\n",
    "        carry = \"0\"\n",
    "        for index, digit in enumerate(first_binnum):\n",
    "            if carry == \"1\":\n",
    "                if digit == \"1\" and second_binnum[index] == \"1\": # if both digits are 1\n",
    "                    result += \"1\"\n",
    "                    carry = \"1\"\n",
    "                elif digit != second_binnum[index]: # if both digits are not 1 and both digits are not 0\n",
    "                    result += \"0\"\n",
    "                else: # if both digits are 0\n",
    "                    result += \"1\"\n",
    "                    carry = \"0\"\n",
    "            elif carry == \"0\":\n",
    "                if digit == \"1\" and second_binnum[index] == \"1\": # if both digits are 1\n",
    "                    result += \"0\"\n",
    "                    carry = \"1\"\n",
    "                elif digit != second_binnum[index]: # if one digit is 0 and one digit is 1\n",
    "                    result += \"1\"\n",
    "                else:\n",
    "                    result += \"0\"\n",
    "        if carry == \"1\":\n",
    "            result += \"1\" # if we carry an overflow bit, add it to the end\n",
    "        reverse = result[::-1] # reverse the result\n",
    "```          \n",
    "Let's see how this actually works!        \n",
    "\n",
    "        \n",
    "        "
   ]
  },
  {
   "cell_type": "code",
   "execution_count": 71,
   "metadata": {},
   "outputs": [],
   "source": [
    "binary_digits = set(\"01\")\n",
    "\n",
    "class BinaryNum(object):\n",
    "    \n",
    "    def __init__(self, somenum):\n",
    "        \"\"\"create an object of type BinaryNum from a decimal number or string of 1s and 0s\"\"\"\n",
    "        assert type(somenum) == int or type(somenum) == str\n",
    "        print(\"the __init__() method is being called\")\n",
    "        if type(somenum) == int:\n",
    "            self.binary_representation = self.decimal_tobin(somenum)\n",
    "        else:\n",
    "            assert set(somenum).issubset(binary_digits)\n",
    "            self.binary_representation = somenum\n",
    "        print(\"object created!\")\n",
    "        \n",
    "    def decimal_tobin(self, decimal):\n",
    "        \"\"\"this method takes a positive decimal integer and returns the binary representation as a string\"\"\"\n",
    "        assert decimal > 0 and type(decimal) == int # assertions so program will hang if decimal is not a positive\n",
    "                                                    # integer\n",
    "        result = \"\"\n",
    "        while decimal > 0:\n",
    "            result += str(decimal % 2)\n",
    "            decimal = int(decimal / 2)\n",
    "        return result[::-1] #use step parameter return the reversed string, since we added digits left to right\n",
    "    \n",
    "    def to_decimal(self):\n",
    "        \"\"\"this method returns the decimal equivalent of self.binary_representation\"\"\"\n",
    "        result = 0\n",
    "        binnum = self.binary_representation[::-1] # reverse our binary number so that we can process least digits\n",
    "                                                    # first\n",
    "        for index, digit in enumerate(binnum): # enumerate is useful if you want both the objects in an iterable\n",
    "                                               # and their indexes\n",
    "            result += int(digit) * (2 ** index) # go through each digit and raise it to the power of its index\n",
    "        return result\n",
    "\n",
    "    def __str__(self):\n",
    "        return self.binary_representation # here we just spit out the string representation of the binary number\n",
    "    \n",
    "    def __add__(self, obj):\n",
    "        assert type(obj) == BinaryNum # this means our program will hang if we try to add to something that is not\n",
    "                                      # of the same type\n",
    "        assert len(self.binary_representation) == len(obj.binary_representation)\n",
    "        print(\"the __add__() method is being called\")\n",
    "        first_binnum = self.binary_representation[::-1]\n",
    "        second_binnum = obj.binary_representation[::-1] # since we know our obj is of type BinaryNum (from our\n",
    "                                                          # assert), we can assume it has a binary_representation\n",
    "                                                          # attribute. We will assume the binary numbers are of\n",
    "                                                          # equal length for simplicity\n",
    "        result = \"\"\n",
    "        carry = \"0\"\n",
    "        for index, digit in enumerate(first_binnum):\n",
    "            if carry == \"1\":\n",
    "                if digit == \"1\" and second_binnum[index] == \"1\": # if both digits are 1\n",
    "                    result += \"1\"\n",
    "                    carry = \"1\"\n",
    "                elif digit != second_binnum[index]: # if both digits are not 1 and both digits are not 0\n",
    "                    result += \"0\"\n",
    "                else: # if both digits are 0\n",
    "                    result += \"1\"\n",
    "                    carry = \"0\"\n",
    "            elif carry == \"0\":\n",
    "                if digit == \"1\" and second_binnum[index] == \"1\": # if both digits are 1\n",
    "                    result += \"0\"\n",
    "                    carry = \"1\"\n",
    "                elif digit != second_binnum[index]: # if one digit is 0 and one digit is 1\n",
    "                    result += \"1\"\n",
    "                else:\n",
    "                    result += \"0\"\n",
    "        if carry == \"1\":\n",
    "            result += \"1\" # if we carry an overflow bit, add it to the end\n",
    "        return BinaryNum(result[::-1]) # return the reverse as a BinaryNum object\n",
    "    \n",
    "    "
   ]
  },
  {
   "cell_type": "code",
   "execution_count": 72,
   "metadata": {},
   "outputs": [
    {
     "name": "stdout",
     "output_type": "stream",
     "text": [
      "the __init__() method is being called\n",
      "object created!\n",
      "first binary number is: 1111\n",
      "decimal equivalent: 15\n",
      "the __init__() method is being called\n",
      "object created!\n",
      "second binary number is: 1110\n",
      "decimal equivalent: 14\n",
      "the __add__() method is being called\n",
      "the __init__() method is being called\n",
      "object created!\n",
      "adding 1111 and 1110, we get 11101\n",
      "or in decimal: 15 + 14 = 29\n"
     ]
    }
   ],
   "source": [
    "my_binary = BinaryNum(15)\n",
    "print(f\"first binary number is: {my_binary}\")\n",
    "print(f\"decimal equivalent: {my_binary.to_decimal()}\")\n",
    "my_other = BinaryNum(14)\n",
    "print(f\"second binary number is: {my_other}\")\n",
    "print(f\"decimal equivalent: {my_other.to_decimal()}\")\n",
    "new_binary = my_binary + my_other\n",
    "print(f\"adding {my_binary} and {my_other}, we get {new_binary}\")\n",
    "print(f\"or in decimal: {my_binary.to_decimal()} + {my_other.to_decimal()} = {new_binary.to_decimal()}\")"
   ]
  },
  {
   "cell_type": "code",
   "execution_count": 1,
   "metadata": {},
   "outputs": [
    {
     "name": "stdout",
     "output_type": "stream",
     "text": [
      "Hola Gib\n"
     ]
    }
   ],
   "source": [
    "print(\"Hola Gib\")"
   ]
  },
  {
   "cell_type": "code",
   "execution_count": 4,
   "metadata": {},
   "outputs": [
    {
     "name": "stdout",
     "output_type": "stream",
     "text": [
      "There a b\n"
     ]
    }
   ],
   "source": [
    "name = \"Gibrhann\"\n",
    "b = 'b'\n",
    "\n",
    "if b in name:\n",
    "    print(\"There a b\")"
   ]
  },
  {
   "cell_type": "code",
   "execution_count": null,
   "metadata": {},
   "outputs": [],
   "source": []
  }
 ],
 "metadata": {
  "kernelspec": {
   "display_name": "Python 3",
   "language": "python",
   "name": "python3"
  },
  "language_info": {
   "codemirror_mode": {
    "name": "ipython",
    "version": 3
   },
   "file_extension": ".py",
   "mimetype": "text/x-python",
   "name": "python",
   "nbconvert_exporter": "python",
   "pygments_lexer": "ipython3",
   "version": "3.6.5"
  }
 },
 "nbformat": 4,
 "nbformat_minor": 2
}
